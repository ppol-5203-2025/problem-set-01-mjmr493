{
 "cells": [
  {
   "cell_type": "markdown",
   "id": "245e7088",
   "metadata": {},
   "source": [
    "<h1><center> PPOL 5203 Data Science I: Foundations <br><br> \n",
    "<font color='grey'>Problem Set I<br><br>\n",
    "Tiago Ventura</center></center> <h1> "
   ]
  },
  {
   "cell_type": "markdown",
   "id": "4fe2c5d4",
   "metadata": {},
   "source": [
    "This problem set will focus on: \n",
    "\n",
    "- Best Practices for project organization, reproducibility and coding\n",
    "- Git: working with branches, merging, and solving git conflicts\n",
    "- Git: understanding commit structure.\n",
    "\n",
    "You should submit your assigment via github classroom. \n",
    "\n",
    "I will consider your last commit as your final submission. "
   ]
  },
  {
   "cell_type": "markdown",
   "id": "f3e2b620",
   "metadata": {},
   "source": [
    "## Question 1 (pts 30) \n",
    "\n",
    "Congratulations!! Your data science report was accepted for publication! As it has become the norm, you now have to submit the data and code for replication of your report's results. \n",
    "\n",
    "You decided to create a github repo with all the materials (data, code, figures) of your article. You article has the following materials: \n",
    "\n",
    "- `main.py` (runs the main results of the paper); \n",
    "- `res_sif.py` (runs all results of the appendix);\n",
    "- `ana_add_p.py` (additional analysis main paper);\n",
    "- `prep   II  version_3.py` (does all the processing of the data);\n",
    "- `survey s II qualtrics 12/10.csv` (raw data);\n",
    "- `raw_data_II_saved_by_coauthor_X.json` (clean data);\n",
    "- `fig.png` (figure 1)\n",
    "- `figure abs.png` (figure 2)\n",
    "- `figure abs2.png` (figure 3)\n",
    "- `figure abs3.png` (figure 4)\n",
    "- `figure abs4.png` (figure 5)\n",
    "- `figure sif.png` (figure 1 appendix with heteregenous effects)\n",
    "- `figure sif .png` (figure 2 appendix results for polarization)\n",
    "- `figure sif .png` (figure 3 appendix robustness checks)\n",
    "\n",
    "**Your taks:** Create a folder in your repository named `question-01`. In this folder, you should simulate a github repo with all the materials (data, code, figures) of your article that follows the best practices for project management and reproducibility we discussed in class. \n",
    "\n",
    "- Tip 1: Check [this repo](https://github.com/TiagoVentura/winning_plosone/tree/main) to see what your response should look like. \n",
    "\n",
    "- Tip 2: I do not care what is inside of each file. Just create a empty file/output with the appropiate name. \n",
    "\n",
    "- Tip 3: You **do not** need to worry about creating a conda or pyenv environment. "
   ]
  },
  {
   "cell_type": "code",
   "execution_count": null,
   "id": "825d293b",
   "metadata": {},
   "outputs": [],
   "source": [
    "# No needs to answer anything here. This should be a full folder in your repository\n"
   ]
  },
  {
   "cell_type": "markdown",
   "id": "77656f95",
   "metadata": {},
   "source": [
    "## Question 2 (pts 30) \n",
    "\n",
    "In this question, I ask you to practice several git commands. In your response below, you should paste all the commands you used to answer the question. If you did some trial and error, it is not a problem. Paste the correct response to each item. \n",
    "\n",
    "1. In your main repository (from github classroom), create a `.txt` named `solutions_for_question_2`. Write the name of your favorite book in the file.  \n",
    "\n",
    "2. Add that file to the staging area.\n",
    "\n",
    "3. Commit that file with a clear commit message\n",
    "\n",
    "4. Create and checkout to a new branch called \"wish_to\"\n",
    "\n",
    "5. Make a change `solutions_for_question_2` and commit. The change should be adding your second favorite book.\n",
    "\n",
    "3. Switch back to the `master` or `main` branch.\n",
    "\n",
    "4. Make a change `solutions_for_question_2` and commit. Add the book you want to read next. Make sure that change is to the same line as you change in step 5. Make sure the change differs from what you did in step two. \n",
    "\n",
    "5. Now merge the `new` and `master` branches.\n",
    "\n",
    "6. Manually resolve the git conflict and then commit the resolved version. Be detailed on how you are solving the conflict\n",
    "\n",
    "7. Look at your git and describe with words the timeline of changes. "
   ]
  },
  {
   "cell_type": "markdown",
   "id": "6be5cbce-f137-4c36-a4db-1cca75bacbf0",
   "metadata": {},
   "source": [
    "# Paste here all the commands you used to answer this questions. \n",
    "# Use instructive commit messages, since we will look at those to grade your homework\n",
    "\n",
    "1. vim solutions_for_question_2.txt\n",
    "2. git add solutions_for_question_2.txt\n",
    "3. git commit -m \"Adding favorite book for Q2 part 3\"\n",
    "4. git checkout -b \"wish_to\"\n",
    "5. vim solutions_for_question_2.txt\n",
    "   git add solutions_for_question_2.txt\n",
    "   git commit -m \"Adding my second favorite book for Q2 part 5\"\n",
    "6. git checkout main\n",
    "7. vim solutions_for_question_2.txt\n",
    "   git add solutions_for_question_2.txt\n",
    "   git commit -m \"Adding my second favorite book for Q2 part 7\"\n",
    "8. git merge wish_to\n",
    "9. git status\n",
    "   vim solutions_for_question_2.txt\n",
    "   git add solutions_for_question_2.txt\n",
    "   git commit -m \"Resolved merge conflicts!\"\n",
    "10. Using the 'git log' command, there is a clear timeline of events in which each commit is catalogued with a message,author, time stamp, the files being tracked, a commit hash, and which branch it was on. The log even shows when there was a merge conflict through the branches: origin, main, and head.\n"
   ]
  },
  {
   "cell_type": "markdown",
   "id": "8803051b",
   "metadata": {},
   "source": [
    "## Question 3 (pts 30)\n",
    "\n",
    "Solve the challenges of this Git Scavenger task  \n",
    "\n",
    "Here is the link of the task:\n",
    "\n",
    "https://github.com/PPOL-5203-2023/git-scavenger-hunt-20203\n",
    "\n",
    "Provide your answers below in this notebook. "
   ]
  },
  {
   "cell_type": "markdown",
   "id": "23b8eea5-1fc9-4bd5-ae6c-627d5ffe2fde",
   "metadata": {},
   "source": [
    "# add your answers here\n",
    "\n",
    "1. What is the title of the news story?\n",
    "\n",
    "The title of the news story is 'Trump is explaining exactly how wild and extreme his second term would be'.\n",
    "\n",
    "2. What changes were made to the news story in a later commit?\n",
    "\n",
    "There were 12 changes to the news story in a later commit, 11 lines were deleted and one lines was added.\n",
    "Deleted: 11 lines which contained information about the author, the 2023 update, Trump leaving office, speculation about 2024 election outcome, Trump message on political freedome, and CNN poll on Republicans.\n",
    "Added: 1 line which contained a URL to news story.\n",
    "\n",
    "3. Which book I am currently reading?\n",
    "\n",
    "You are currently reading Babel by R.F. Kuang (as of the 2023 update).\n",
    "\n",
    "4. Which year did I read more books?\n",
    "\n",
    "You read the most books in 2021.\n",
    "\n",
    "5. Have you read any of the books I read in the past years? What is your favorite?\n",
    "\n",
    "I have been reading Babel for the past few months! I suspect I my slow pace is because I don't want it to end! The Priory of the Orange Tree is on my TBR list (I know it aligns with my favorite fantasy books, but I just haven't checked it out yet). I can tell you have good taste! I will definitely be asking for SciFi recommendations. I have heard so many great things about Octavia E. Butler and Ursula K. Le Guin, so I'd be interested to hear your thoughts about the best SciFi authors.\n",
    "\n",
    "6. Why there are no information about the books in the main branch? Which commit did that happen?\n",
    "\n",
    "When the images of three wonderful dogs were added to the main branch, the information about the books were deleted. This happened in the a21b7ce commit, titled 'update dog images'.\n",
    "\n",
    "7. How many branches are still active? What is their difference?\n",
    "\n",
    "There are three branches still active: main, jb, updates-book-2025. There are differences between the main branch and jb and updates-book-2025 branches. Different from main, jb and updates-book-2025 had 2 commits and 13 additions made to books_jb.txt. \n",
    "\n",
    "The branch what_i_have_been_reading is considered stale, not active, because it has not been committed to in the last 3 months. The main branch is not listed in the active branch section, but that is because it is considered the default and constant, so it is not tracked in this way. However, I am classifying it as active since it was committed to 2 weeks ago.\n",
    "\n",
    "8. Which dog picture did you find more cute?\n",
    "\n",
    "Don't get me wrong, all the dog picture were cute beyond measure. But there is something so precious about the dog sitting at the table. \n",
    "\n",
    "9. What is the commit hash number for the commit where the readme was changed to how you read it now?\n",
    "\n",
    "The commit hash number for the commit where the readme was changed to the current version is 53b7fd8.\n",
    "\n",
    "10. Who did inspire this particular exercise?\n",
    "\n",
    "This exercise was inspired by This exercise is inspired by Eric Dunford and his repository detailing a git scavenger hunt.\n",
    "\n",
    "11. And sorry, this was a bit old, so you can see the books I am \"currently\" reading are actually from 2023. Which book I am reading right now, for real?\n",
    "\n",
    "You are currently reading The Trouble with Peace by Joe Abercrombie."
   ]
  },
  {
   "cell_type": "markdown",
   "id": "c129e20d",
   "metadata": {},
   "source": [
    "## Question 4 (pts 10)\n",
    "\n",
    "As part of this homework, I want you to complete at least one course on DataCamp about Git. I created a track for you on your DataCamp Dashboard. Your tasks are: \n",
    "\n",
    "- Complete at least one of the courses in the git track\n",
    "\n",
    "- Submit a certification/proof of completion as a PDF in the github repository for this assignment. \n",
    "\n",
    "**IMPORTANT:** You have free access to datacamp as part of this course. So you do not need to sign up. Just follow the github invitation (with your georgetown email) that I sent earlier to you.  \n",
    "\n",
    "If you have time, complete the entire track. It is really worth it!"
   ]
  },
  {
   "cell_type": "markdown",
   "id": "e0158d6d",
   "metadata": {},
   "source": [
    "### Happy Git!"
   ]
  }
 ],
 "metadata": {
  "kernelspec": {
   "display_name": "Python [conda env:base] *",
   "language": "python",
   "name": "conda-base-py"
  },
  "language_info": {
   "codemirror_mode": {
    "name": "ipython",
    "version": 3
   },
   "file_extension": ".py",
   "mimetype": "text/x-python",
   "name": "python",
   "nbconvert_exporter": "python",
   "pygments_lexer": "ipython3",
   "version": "3.13.5"
  }
 },
 "nbformat": 4,
 "nbformat_minor": 5
}
